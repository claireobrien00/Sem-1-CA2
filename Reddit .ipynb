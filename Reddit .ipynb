{
 "cells": [
  {
   "cell_type": "code",
   "execution_count": 1,
   "id": "b4d721ef",
   "metadata": {},
   "outputs": [],
   "source": [
    "import praw\n",
    "import pandas as pd\n",
    "from datetime import datetime as dt\n",
    "from dotenv import load_dotenv\n",
    "from os import getenv\n",
    "\n",
    "import warnings\n",
    "warnings.filterwarnings('ignore') # We can suppress the warnings"
   ]
  },
  {
   "cell_type": "code",
   "execution_count": 2,
   "id": "81d0a049",
   "metadata": {},
   "outputs": [],
   "source": [
    "# Load from the .env\n",
    "load_dotenv()\n",
    "\n",
    "# Get the environmental variables from the .env file\n",
    "APP_NAME = getenv('APP_NAME')\n",
    "APP_ID = getenv(\"APP_ID\")\n",
    "APP_SECRET = getenv(\"APP_SECRET\")\n",
    "USERNAME = getenv('REDDIT_NAME')\n",
    "PASSWORD = getenv('REDDIT_PASSWORD')"
   ]
  },
  {
   "cell_type": "markdown",
   "id": "f1430e0f",
   "metadata": {},
   "source": [
    "Confirm that the credentials have been loaded"
   ]
  },
  {
   "cell_type": "code",
   "execution_count": 3,
   "id": "1e1a83c9",
   "metadata": {},
   "outputs": [
    {
     "name": "stdout",
     "output_type": "stream",
     "text": [
      "Credentials loaded\n"
     ]
    }
   ],
   "source": [
    "if APP_NAME and APP_ID and APP_SECRET and USERNAME and PASSWORD:\n",
    "    print(\"Credentials loaded\")\n",
    "else:\n",
    "    print(\"ERROR: Credentials not loaded!!\")"
   ]
  },
  {
   "cell_type": "markdown",
   "id": "d9a7e0ed",
   "metadata": {},
   "source": [
    "# PRAW"
   ]
  },
  {
   "cell_type": "markdown",
   "id": "76f12fcf",
   "metadata": {},
   "source": [
    "Using the API to access Reddit's posts and comments"
   ]
  },
  {
   "cell_type": "code",
   "execution_count": 4,
   "id": "3bba939e",
   "metadata": {},
   "outputs": [],
   "source": [
    "reddit = praw.Reddit(\n",
    "    client_id=getenv(\"CLIENT_ID\"), # Right below 'personal use script'\n",
    "    client_secret=getenv(\"CLIENT_SECRET\"), # secret\n",
    "    user_agent=f\"pda-2023 u/{getenv('USERNAME')}\", # app-name u/username\n",
    ")\n"
   ]
  },
  {
   "cell_type": "markdown",
   "id": "1eb377ce",
   "metadata": {},
   "source": [
    "Confirm read only access, cannot post/write"
   ]
  },
  {
   "cell_type": "code",
   "execution_count": 5,
   "id": "99a81d34",
   "metadata": {},
   "outputs": [
    {
     "name": "stdout",
     "output_type": "stream",
     "text": [
      "True\n"
     ]
    }
   ],
   "source": [
    "print(reddit.read_only)"
   ]
  },
  {
   "cell_type": "markdown",
   "id": "dabcb849",
   "metadata": {},
   "source": [
    "Go to the Farming subreddit"
   ]
  },
  {
   "cell_type": "code",
   "execution_count": 6,
   "id": "36d4c9c1",
   "metadata": {},
   "outputs": [],
   "source": [
    "subreddit = reddit.subreddit(\"Farming\")"
   ]
  },
  {
   "cell_type": "markdown",
   "id": "a1f67a99",
   "metadata": {},
   "source": [
    "Create a loop to go through the categories of the subreddit and save the post title and the first comment\n",
    "The number of posts was limited as any higher return a 429 error"
   ]
  },
  {
   "cell_type": "code",
   "execution_count": 8,
   "id": "24f9fe7e",
   "metadata": {},
   "outputs": [],
   "source": [
    "num_posts = 500\n",
    "categories = ['hot', 'new', 'top', 'rising', 'controversial']\n",
    "\n",
    "# Initialize empty lists to store post titles and comments\n",
    "postTitles = []\n",
    "postComments = []\n",
    "\n",
    "# for post in subreddit.new(limit=num_posts):\n",
    "#     postTitles.append(post.title)\n",
    "#     postComments.append(post.comments[0].body)\n",
    "\n",
    "for category in categories:\n",
    "    for post in getattr(subreddit, category)(limit=num_posts):\n",
    "        postTitles.append(post.title)\n",
    "        if post.comments:\n",
    "            postComments.append(post.comments[0].body)\n",
    "        else:\n",
    "            postComments.append(\"No comments\")\n"
   ]
  },
  {
   "cell_type": "markdown",
   "id": "b55b0809",
   "metadata": {},
   "source": [
    "Save the title and comments to a dataframe"
   ]
  },
  {
   "cell_type": "code",
   "execution_count": 9,
   "id": "10ed3076",
   "metadata": {},
   "outputs": [],
   "source": [
    "df = pd.DataFrame({\n",
    "    \"PostTitle\": postTitles,\n",
    "    \"PostComments\": postComments\n",
    "})"
   ]
  },
  {
   "cell_type": "markdown",
   "id": "954024a2",
   "metadata": {},
   "source": [
    "Check how many titles and comments were gathered"
   ]
  },
  {
   "cell_type": "code",
   "execution_count": 10,
   "id": "d04ebe07",
   "metadata": {},
   "outputs": [
    {
     "data": {
      "text/plain": [
       "(2020, 2)"
      ]
     },
     "execution_count": 10,
     "metadata": {},
     "output_type": "execute_result"
    }
   ],
   "source": [
    "df.shape"
   ]
  },
  {
   "cell_type": "markdown",
   "id": "cf968031",
   "metadata": {},
   "source": [
    "Create a list of keywords relevant to the farming industry of interest"
   ]
  },
  {
   "cell_type": "code",
   "execution_count": 11,
   "id": "f58ac234",
   "metadata": {},
   "outputs": [],
   "source": [
    "keywords = ['dairy', 'beef', 'livestock','sheep','bovine','pig','pork','price','feed', 'cheese', 'crop', 'wheat'\n",
    "            ,'barley','chicken','poultry','vegetable','yogurt', 'cow', 'goat', 'cost'\n",
    "           ]"
   ]
  },
  {
   "cell_type": "markdown",
   "id": "6400a2a2",
   "metadata": {},
   "source": [
    "Use a lambda function to filter the dataframe based on the list of keywords"
   ]
  },
  {
   "cell_type": "code",
   "execution_count": 12,
   "id": "f36c394b",
   "metadata": {},
   "outputs": [
    {
     "data": {
      "text/plain": [
       "(503, 2)"
      ]
     },
     "execution_count": 12,
     "metadata": {},
     "output_type": "execute_result"
    }
   ],
   "source": [
    "# Search for posts containing the keywords\n",
    "title = []\n",
    "comments = []\n",
    "filtered_df = df[df.apply(lambda row: any(keyword in row['PostTitle'] or keyword in row['PostComments'] for keyword in keywords), axis=1)]\n",
    "#Check how many rows are remaining\n",
    "filtered_df.shape"
   ]
  },
  {
   "cell_type": "markdown",
   "id": "e6a23b58",
   "metadata": {},
   "source": [
    "Save the filtered dataframe to a CSV for sentiment analysis - commented to stop the file being overwritten"
   ]
  },
  {
   "cell_type": "code",
   "execution_count": 13,
   "id": "d1e5ecfc",
   "metadata": {},
   "outputs": [],
   "source": [
    "#filtered_df.to_csv(\"Reddit_Python_Posts.csv\", index=False)"
   ]
  }
 ],
 "metadata": {
  "kernelspec": {
   "display_name": "Python 3 (ipykernel)",
   "language": "python",
   "name": "python3"
  },
  "language_info": {
   "codemirror_mode": {
    "name": "ipython",
    "version": 3
   },
   "file_extension": ".py",
   "mimetype": "text/x-python",
   "name": "python",
   "nbconvert_exporter": "python",
   "pygments_lexer": "ipython3",
   "version": "3.11.5"
  }
 },
 "nbformat": 4,
 "nbformat_minor": 5
}
